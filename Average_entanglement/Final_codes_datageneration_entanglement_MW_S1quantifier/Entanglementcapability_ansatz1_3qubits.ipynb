{
 "cells": [
  {
   "cell_type": "code",
   "execution_count": 1,
   "id": "06130e3e",
   "metadata": {},
   "outputs": [],
   "source": [
    "import datetime as dt\n",
    "import pennylane as qml\n",
    "from pennylane import numpy as np\n",
    "import matplotlib.pyplot as plt"
   ]
  },
  {
   "cell_type": "markdown",
   "id": "e1e8d17e",
   "metadata": {},
   "source": [
    "# Fixed parameters (number of samples)"
   ]
  },
  {
   "cell_type": "code",
   "execution_count": 2,
   "id": "82f278e6",
   "metadata": {},
   "outputs": [],
   "source": [
    "#Number of samples determined by Chebyshev inequality\n",
    "samples = 10000"
   ]
  },
  {
   "cell_type": "markdown",
   "id": "96202d3a",
   "metadata": {},
   "source": [
    "# Variable parameters (qubits and layers)"
   ]
  },
  {
   "cell_type": "code",
   "execution_count": 3,
   "id": "fcd9be80",
   "metadata": {},
   "outputs": [],
   "source": [
    "#List of number of qubits\n",
    "qubits = [3]\n",
    "\n",
    "#List of number of layers\n",
    "layers = [5]"
   ]
  },
  {
   "cell_type": "markdown",
   "id": "fbcc9101",
   "metadata": {},
   "source": [
    "# Function to calculate Meyer-Wallach mean and standard deviation"
   ]
  },
  {
   "cell_type": "code",
   "execution_count": 4,
   "id": "739c9a2d",
   "metadata": {},
   "outputs": [],
   "source": [
    "def ent_cap(samples, circuit, nlayers):\n",
    "    MW_mean = 0\n",
    "    MW_mean_sqr = 0\n",
    "    for i in range(samples):\n",
    "        angles = np.array([ [[np.random.uniform(low=-np.pi, high=np.pi) for i in range(wires)], \n",
    "                            [np.random.uniform(low=-np.pi, high=np.pi) for i in range(wires)]] \n",
    "                            for j in range(nlayers)], requires_grad=True)\n",
    "        \n",
    "        pur_sum = 0\n",
    "        for k in range(wires):\n",
    "            state = circuit(angles, k)\n",
    "            pur_sum = pur_sum + np.trace(np.matmul(state, state))\n",
    "    \n",
    "        MW_measure = 2*(1-1/wires*pur_sum)\n",
    "        MW_measure_sqr = MW_measure**2\n",
    "        \n",
    "        MW_mean = MW_mean + MW_measure\n",
    "        MW_mean_sqr = MW_mean_sqr + MW_measure_sqr\n",
    "        \n",
    "    MW_mean = MW_mean/samples\n",
    "    MW_mean_sqr = MW_mean_sqr/samples\n",
    "    MW_standev = np.sqrt(MW_mean_sqr - MW_mean**2)\n",
    "    return(MW_mean, MW_standev)"
   ]
  },
  {
   "cell_type": "markdown",
   "id": "0d860f29",
   "metadata": {},
   "source": [
    "# Code that executes the different conditions"
   ]
  },
  {
   "cell_type": "code",
   "execution_count": 5,
   "id": "3e344beb",
   "metadata": {},
   "outputs": [
    {
     "name": "stdout",
     "output_type": "stream",
     "text": [
      "Execution: qubits= 3 ; layers= 5\n",
      "\n",
      "Tempo inicial: \n",
      "2023-07-10 16:05:43\n",
      "Tempo final:\n",
      "2023-07-10 16:40:51\n"
     ]
    }
   ],
   "source": [
    "now0 = dt.datetime.now() #monitorar tempo de início\n",
    "now0 = now0.strftime(\"%Y-%m-%d %H:%M:%S\")\n",
    "\n",
    "\n",
    "for wires in qubits:\n",
    "    dev = qml.device(\"default.qubit\", wires=wires, shots=None)\n",
    "    \n",
    "    for nlayers in layers:\n",
    "        \n",
    "        #Identity circuit\n",
    "        def identity(rots, k):\n",
    "            for i in range(wires):\n",
    "                qml.Identity(wires = [i])\n",
    "            return qml.density_matrix([k])\n",
    "\n",
    "        identity_circuit = qml.QNode(identity, dev)\n",
    "\n",
    "\n",
    "        \n",
    "        #No connections circuit\n",
    "        def layer_noconnec(rots):\n",
    "            for i in range(wires):\n",
    "                qml.RX(rots[0][i], wires=[i])\n",
    "                qml.RY(rots[1][i], wires=[i])\n",
    "        \n",
    "        \n",
    "        def noconnec(rotations, k):\n",
    "            qml.layer(layer_noconnec, nlayers, rotations)\n",
    "            return qml.density_matrix([k])\n",
    "\n",
    "        noconnec_circuit = qml.QNode(noconnec, dev)\n",
    "        \n",
    "        \n",
    "        \n",
    "        #Linear circuit\n",
    "        def layer_linear(rots):\n",
    "            for i in range(wires):\n",
    "                qml.RX(rots[0][i], wires=[i])\n",
    "                qml.RY(rots[1][i], wires=[i])\n",
    "            qml.broadcast(qml.CNOT, wires=range(wires), pattern=\"chain\")   \n",
    "\n",
    "        def linear(rotations, k):\n",
    "            qml.layer(layer_linear, nlayers, rotations)\n",
    "            return qml.density_matrix([k])\n",
    "\n",
    "        linear_circuit = qml.QNode(linear, dev)\n",
    "        \n",
    "        \n",
    "        \n",
    "        #Ring circuit\n",
    "        def layer_ring(rots):\n",
    "            for i in range(wires):\n",
    "                qml.RX(rots[0][i], wires=[i])\n",
    "                qml.RY(rots[1][i], wires=[i])\n",
    "            qml.broadcast(qml.CNOT, wires=range(wires), pattern=\"chain\")\n",
    "            qml.CNOT(wires=[wires-1,0]) \n",
    "\n",
    "        def ring(rotations, k):\n",
    "            qml.layer(layer_ring, nlayers, rotations)\n",
    "            return qml.density_matrix([k])\n",
    "\n",
    "        ring_circuit = qml.QNode(ring, dev)        \n",
    "        \n",
    "        \n",
    "        \n",
    "        ent_identity, ent_identity_standev  = ent_cap(samples, identity_circuit, nlayers)\n",
    "        ent_noconnec, ent_noconnec_standev = ent_cap(samples, noconnec_circuit, nlayers)\n",
    "        ent_linear, ent_linear_standev = ent_cap(samples, linear_circuit, nlayers)\n",
    "        ent_ring, ent_ring_standev = ent_cap(samples, ring_circuit, nlayers)\n",
    "        \n",
    "        f = open(\"entanglement_ansatz1_qubits{0}_layers{1}_samples{2}.txt\".format(wires,nlayers, samples), \"w\")\n",
    "\n",
    "        print('Circuit,MW_mean,MW_standdev', file = f)\n",
    "        print('Identity,', ent_identity,',', ent_identity_standev, file = f)\n",
    "        print('No connections,',ent_noconnec,',', ent_noconnec_standev, file = f)\n",
    "        print('Linear,',ent_linear,',', ent_linear_standev, file = f)\n",
    "        print('Ring,',ent_ring,',', ent_ring_standev, file = f)\n",
    "        \n",
    "        print('Execution: qubits=',wires,'; layers=', nlayers)\n",
    "        print()\n",
    "        \n",
    "\n",
    "now1 = dt.datetime.now() #monitorar tempo de início\n",
    "now1 = now1.strftime(\"%Y-%m-%d %H:%M:%S\")\n",
    "\n",
    "print(\"Tempo inicial: \")\n",
    "print(now0)\n",
    "print(\"Tempo final:\")\n",
    "print(now1)"
   ]
  },
  {
   "cell_type": "code",
   "execution_count": 6,
   "id": "844dd909",
   "metadata": {},
   "outputs": [],
   "source": [
    "f.close()"
   ]
  },
  {
   "cell_type": "code",
   "execution_count": null,
   "id": "a943cf04",
   "metadata": {},
   "outputs": [],
   "source": []
  }
 ],
 "metadata": {
  "kernelspec": {
   "display_name": "Python 3 (ipykernel)",
   "language": "python",
   "name": "python3"
  },
  "language_info": {
   "codemirror_mode": {
    "name": "ipython",
    "version": 3
   },
   "file_extension": ".py",
   "mimetype": "text/x-python",
   "name": "python",
   "nbconvert_exporter": "python",
   "pygments_lexer": "ipython3",
   "version": "3.10.12"
  }
 },
 "nbformat": 4,
 "nbformat_minor": 5
}
