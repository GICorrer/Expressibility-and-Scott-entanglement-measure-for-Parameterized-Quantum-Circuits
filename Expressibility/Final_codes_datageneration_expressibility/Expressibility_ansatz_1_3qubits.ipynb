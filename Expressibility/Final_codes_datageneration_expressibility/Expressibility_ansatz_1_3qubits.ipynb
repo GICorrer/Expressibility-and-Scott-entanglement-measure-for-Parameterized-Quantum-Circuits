{
 "cells": [
  {
   "cell_type": "code",
   "execution_count": 1,
   "id": "3abc6714",
   "metadata": {},
   "outputs": [],
   "source": [
    "import datetime as dt\n",
    "import pennylane as qml\n",
    "from pennylane import numpy as np\n",
    "import matplotlib.pyplot as plt\n",
    "from scipy.special import rel_entr"
   ]
  },
  {
   "cell_type": "markdown",
   "id": "40e8510a",
   "metadata": {},
   "source": [
    "# Fixed parameters"
   ]
  },
  {
   "cell_type": "code",
   "execution_count": 2,
   "id": "f95e85b7",
   "metadata": {},
   "outputs": [],
   "source": [
    "samplesize = 5000\n",
    "nbins = 75\n",
    "width = 1.0/nbins"
   ]
  },
  {
   "cell_type": "markdown",
   "id": "12a35355",
   "metadata": {},
   "source": [
    "# Variable parameters (qubits and layers)"
   ]
  },
  {
   "cell_type": "code",
   "execution_count": 3,
   "id": "10a9d6b9",
   "metadata": {},
   "outputs": [],
   "source": [
    "#List of number of qubits\n",
    "qubits = [3]\n",
    "\n",
    "#List of number of layers\n",
    "layers = [5]"
   ]
  },
  {
   "cell_type": "markdown",
   "id": "dcdbd071",
   "metadata": {},
   "source": [
    "# Multiple layer fidelity histogram"
   ]
  },
  {
   "cell_type": "code",
   "execution_count": 4,
   "id": "95ae1d68",
   "metadata": {},
   "outputs": [],
   "source": [
    "def fidel_histogram(binsnumb, samples, circuit, nlayers):\n",
    "    fidel_vector = []\n",
    "    for i in range(samples):\n",
    "        #angles1 = np.array([np.random.uniform(low=-np.pi, high=np.pi) for i in range(wires)],\n",
    "        #             requires_grad=True)\n",
    "        #angles2 = np.array([np.random.uniform(low=-np.pi, high=np.pi) for i in range(wires)],\n",
    "        #             requires_grad=True)\n",
    "        \n",
    "        angles1 = np.array([ [[np.random.uniform(low=-np.pi, high=np.pi) for i in range(wires)], \n",
    "                            [np.random.uniform(low=-np.pi, high=np.pi) for i in range(wires)]] \n",
    "                            for j in range(nlayers)], requires_grad=True)\n",
    "        \n",
    "        angles2 = np.array([ [[np.random.uniform(low=-np.pi, high=np.pi) for i in range(wires)], \n",
    "                            [np.random.uniform(low=-np.pi, high=np.pi) for i in range(wires)]] \n",
    "                            for j in range(nlayers)], requires_grad=True)\n",
    "        \n",
    "        state1 = circuit(angles1)\n",
    "        state2 = circuit(angles2)\n",
    "        \n",
    "        F = np.abs( np.dot(state1, state2) )**2\n",
    "        \n",
    "        fidel_vector.append(F)\n",
    "        \n",
    "    fidel_vector = np.asarray(fidel_vector)\n",
    "    \n",
    "    binsize = 1.0/binsnumb\n",
    "    bins = np.arange(0, 1. + binsize, binsize)\n",
    "    \n",
    "    histogram, bins = np.histogram(fidel_vector, bins=bins)[0]/samples, np.histogram(fidel_vector, bins=bins)[1]\n",
    "    \n",
    "    return histogram, bins"
   ]
  },
  {
   "cell_type": "markdown",
   "id": "3e37a076",
   "metadata": {},
   "source": [
    "# Code that executes the different conditions"
   ]
  },
  {
   "cell_type": "code",
   "execution_count": 5,
   "id": "ccfb63a3",
   "metadata": {},
   "outputs": [
    {
     "name": "stdout",
     "output_type": "stream",
     "text": [
      "Execution: qubits= 3 ; layers= 5\n",
      "\n",
      "Tempo inicial: \n",
      "2023-07-10 16:04:20\n",
      "Tempo final:\n",
      "2023-07-10 16:16:16\n"
     ]
    }
   ],
   "source": [
    "now0 = dt.datetime.now() #monitorar tempo de início\n",
    "now0 = now0.strftime(\"%Y-%m-%d %H:%M:%S\")\n",
    "\n",
    "\n",
    "for wires in qubits:\n",
    "    dev = qml.device(\"default.qubit\", wires=wires, shots=None)\n",
    "        \n",
    "    \n",
    "    for nlayers in layers:\n",
    "        \n",
    "        #No connections\n",
    "        def layer_noconnec(rots):\n",
    "            for i in range(wires):\n",
    "                qml.RX(rots[0][i], wires=[i])\n",
    "                qml.RY(rots[1][i], wires=[i])\n",
    "        \n",
    "        def noconnec(rotations):\n",
    "            qml.layer(layer_noconnec, nlayers, rotations)\n",
    "            return qml.state()\n",
    "\n",
    "        noconnec_circuit = qml.QNode(noconnec, dev)\n",
    "        \n",
    "        \n",
    "        \n",
    "        #Linear\n",
    "        def layer_linear(rots):\n",
    "            for i in range(wires):\n",
    "                qml.RX(rots[0][i], wires=[i])\n",
    "                qml.RY(rots[1][i], wires=[i])\n",
    "            qml.broadcast(qml.CNOT, wires=range(wires), pattern=\"chain\")\n",
    "\n",
    "        def linear(rotations):\n",
    "            qml.layer(layer_linear, nlayers, rotations)\n",
    "            return qml.state()\n",
    "\n",
    "        linear_circuit = qml.QNode(linear, dev)\n",
    "        \n",
    "        \n",
    "        \n",
    "        #Ring\n",
    "        def layer_ring(rots):\n",
    "            for i in range(wires):\n",
    "                qml.RX(rots[0][i], wires=[i])\n",
    "                qml.RY(rots[1][i], wires=[i])\n",
    "            qml.broadcast(qml.CNOT, wires=range(wires), pattern=\"chain\")\n",
    "            qml.CNOT(wires=[wires-1,0])\n",
    "    \n",
    "        def ring(rotations):\n",
    "            qml.layer(layer_ring, nlayers, rotations)\n",
    "            return qml.state()\n",
    "\n",
    "        ring_circuit = qml.QNode(ring, dev)\n",
    "        \n",
    "        \n",
    "        \n",
    "        noconnec_hist, bins = fidel_histogram(nbins, samplesize, noconnec_circuit, nlayers)\n",
    "        linear_hist, bins = fidel_histogram(nbins, samplesize, linear_circuit, nlayers)\n",
    "        ring_hist, bins = fidel_histogram(nbins, samplesize, ring_circuit, nlayers)\n",
    "        \n",
    "            \n",
    "        #Haar histogram for 'wires' qubits\n",
    "        N = 2**wires #dimension of the Hilbert space\n",
    "        histogram_Haar = []\n",
    "        for i in range(nbins):\n",
    "            histogram_Haar.append(  (1-bins[i])**(N-1) - (1-bins[i+1])**(N-1)  )\n",
    "        \n",
    "        \n",
    "        D_KL_noconnec = sum( rel_entr(noconnec_hist, histogram_Haar) )\n",
    "        D_KL_linear = sum( rel_entr(linear_hist, histogram_Haar) )\n",
    "        D_KL_ring = sum( rel_entr(ring_hist, histogram_Haar) )\n",
    "        \n",
    "        \n",
    "        f = open(\"expressibility_ansatz1_qubits{0}_layers{1}_samples{2}.txt\".format(wires,nlayers, samplesize), \"w\")\n",
    "\n",
    "        print('Circuit,Expressibility', file = f)\n",
    "        print('No connections,', D_KL_noconnec, file = f)\n",
    "        print('Linear,', D_KL_linear, file = f)\n",
    "        print('Ring,', D_KL_ring, file = f)\n",
    "        \n",
    "        print('Execution: qubits=',wires,'; layers=', nlayers)\n",
    "        print()\n",
    "        \n",
    "        \n",
    "now1 = dt.datetime.now() #monitorar tempo de início\n",
    "now1 = now1.strftime(\"%Y-%m-%d %H:%M:%S\")\n",
    "\n",
    "print(\"Tempo inicial: \")\n",
    "print(now0)\n",
    "print(\"Tempo final:\")\n",
    "print(now1)"
   ]
  },
  {
   "cell_type": "code",
   "execution_count": 6,
   "id": "9d5e2de7",
   "metadata": {},
   "outputs": [],
   "source": [
    "f.close()"
   ]
  },
  {
   "cell_type": "code",
   "execution_count": null,
   "id": "96e9db2b",
   "metadata": {},
   "outputs": [],
   "source": []
  }
 ],
 "metadata": {
  "kernelspec": {
   "display_name": "Python 3 (ipykernel)",
   "language": "python",
   "name": "python3"
  },
  "language_info": {
   "codemirror_mode": {
    "name": "ipython",
    "version": 3
   },
   "file_extension": ".py",
   "mimetype": "text/x-python",
   "name": "python",
   "nbconvert_exporter": "python",
   "pygments_lexer": "ipython3",
   "version": "3.10.12"
  }
 },
 "nbformat": 4,
 "nbformat_minor": 5
}
