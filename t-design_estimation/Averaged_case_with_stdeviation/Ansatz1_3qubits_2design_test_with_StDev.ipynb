{
 "cells": [
  {
   "cell_type": "code",
   "execution_count": 1,
   "id": "0c705016",
   "metadata": {},
   "outputs": [],
   "source": [
    "import datetime as dt\n",
    "import pennylane as qml\n",
    "from pennylane import numpy as np\n",
    "import math"
   ]
  },
  {
   "cell_type": "markdown",
   "id": "a3e43e44",
   "metadata": {},
   "source": [
    "# Fixed parameters"
   ]
  },
  {
   "cell_type": "code",
   "execution_count": 2,
   "id": "09b93e97",
   "metadata": {},
   "outputs": [],
   "source": [
    "samplesize = 5000\n",
    "order = 2\n",
    "mean_size = 20"
   ]
  },
  {
   "cell_type": "markdown",
   "id": "b0091407",
   "metadata": {},
   "source": [
    "# Variable parameters (qubits and layers)"
   ]
  },
  {
   "cell_type": "code",
   "execution_count": 3,
   "id": "41ea0f2e",
   "metadata": {},
   "outputs": [],
   "source": [
    "#List of number of qubits\n",
    "qubits = [3]\n",
    "\n",
    "#List of number of layers\n",
    "layers = [1]"
   ]
  },
  {
   "cell_type": "markdown",
   "id": "cb941f56",
   "metadata": {},
   "source": [
    "# Multiple layer fidelities 'order' moment calculations"
   ]
  },
  {
   "cell_type": "code",
   "execution_count": 4,
   "id": "c288aeae",
   "metadata": {},
   "outputs": [],
   "source": [
    "def designtest(order, mean_size, qubits, samples, circuit, nlayers):\n",
    "    express_mean = 0\n",
    "    express_mean_sqr = 0\n",
    "    for j in range(mean_size):\n",
    "        fidel_moment = 0\n",
    "        for i in range(samples):\n",
    "            #angles1 = np.array([np.random.uniform(low=-np.pi, high=np.pi) for i in range(wires)],\n",
    "            #             requires_grad=True)\n",
    "            #angles2 = np.array([np.random.uniform(low=-np.pi, high=np.pi) for i in range(wires)],\n",
    "            #             requires_grad=True)\n",
    "\n",
    "            angles1 = np.array([ [[np.random.uniform(low=-np.pi, high=np.pi) for i in range(wires)], \n",
    "                                [np.random.uniform(low=-np.pi, high=np.pi) for i in range(wires)]] \n",
    "                                for j in range(nlayers)], requires_grad=True)\n",
    "\n",
    "            angles2 = np.array([ [[np.random.uniform(low=-np.pi, high=np.pi) for i in range(wires)], \n",
    "                                [np.random.uniform(low=-np.pi, high=np.pi) for i in range(wires)]] \n",
    "                                for j in range(nlayers)], requires_grad=True)\n",
    "\n",
    "            state1 = circuit(angles1)\n",
    "            state2 = circuit(angles2)\n",
    "\n",
    "            F = np.abs( np.dot(state1, state2) )**2\n",
    "\n",
    "            fidel_moment = fidel_moment + F**order\n",
    "\n",
    "        fidel_moment = fidel_moment/samples\n",
    "\n",
    "        expressib = fidel_moment - (math.factorial(order) * math.factorial(2**qubits-1))/(math.factorial(order\n",
    "                                                                                                        +2**qubits-1))\n",
    "        expressib_sqr = expressib**2\n",
    "        \n",
    "        express_mean = express_mean + expressib\n",
    "        express_mean_sqr = express_mean_sqr + expressib_sqr\n",
    "        \n",
    "    express_mean = express_mean/mean_size\n",
    "    express_mean_sqr = express_mean_sqr/mean_size\n",
    "    express_stdev = np.sqrt(express_mean_sqr - express_mean**2)\n",
    "    return(express_mean, express_stdev)"
   ]
  },
  {
   "cell_type": "markdown",
   "id": "2c31ce32",
   "metadata": {},
   "source": [
    "# Code that executes the different conditions"
   ]
  },
  {
   "cell_type": "code",
   "execution_count": 5,
   "id": "a328a628",
   "metadata": {},
   "outputs": [
    {
     "name": "stdout",
     "output_type": "stream",
     "text": [
      "Execution: qubits= 3 ; layers= 1\n",
      "\n",
      "Tempo inicial: \n",
      "2023-11-18 13:40:04\n",
      "Tempo final:\n",
      "2023-11-18 14:32:21\n"
     ]
    }
   ],
   "source": [
    "now0 = dt.datetime.now() #monitorar tempo de início\n",
    "now0 = now0.strftime(\"%Y-%m-%d %H:%M:%S\")\n",
    "\n",
    "\n",
    "for wires in qubits:\n",
    "    dev = qml.device(\"default.qubit\", wires=wires, shots=None)\n",
    "        \n",
    "    \n",
    "    for nlayers in layers:\n",
    "        \n",
    "        #No connections\n",
    "        def layer_noconnec(rots):\n",
    "            for i in range(wires):\n",
    "                qml.RX(rots[0][i], wires=[i])\n",
    "                qml.RY(rots[1][i], wires=[i])\n",
    "        \n",
    "        def noconnec(rotations):\n",
    "            qml.layer(layer_noconnec, nlayers, rotations)\n",
    "            return qml.state()\n",
    "\n",
    "        noconnec_circuit = qml.QNode(noconnec, dev)\n",
    "        \n",
    "        \n",
    "        \n",
    "        #Linear\n",
    "        def layer_linear(rots):\n",
    "            for i in range(wires):\n",
    "                qml.RX(rots[0][i], wires=[i])\n",
    "                qml.RY(rots[1][i], wires=[i])\n",
    "            qml.broadcast(qml.CNOT, wires=range(wires), pattern=\"chain\")\n",
    "\n",
    "        def linear(rotations):\n",
    "            qml.layer(layer_linear, nlayers, rotations)\n",
    "            return qml.state()\n",
    "\n",
    "        linear_circuit = qml.QNode(linear, dev)\n",
    "        \n",
    "        \n",
    "        \n",
    "        #Ring\n",
    "        def layer_ring(rots):\n",
    "            for i in range(wires):\n",
    "                qml.RX(rots[0][i], wires=[i])\n",
    "                qml.RY(rots[1][i], wires=[i])\n",
    "            qml.broadcast(qml.CNOT, wires=range(wires), pattern=\"chain\")\n",
    "            qml.CNOT(wires=[wires-1,0])\n",
    "    \n",
    "        def ring(rotations):\n",
    "            qml.layer(layer_ring, nlayers, rotations)\n",
    "            return qml.state()\n",
    "\n",
    "        ring_circuit = qml.QNode(ring, dev)\n",
    "        \n",
    "        \n",
    "        \n",
    "        noconnec_design, noconnec_design_stdev  = designtest(order, mean_size, wires, samplesize, noconnec_circuit, nlayers)\n",
    "        linear_design, linear_design_stdev = designtest(order, mean_size, wires, samplesize, linear_circuit, nlayers)\n",
    "        ring_design, ring_design_stdev = designtest(order, mean_size, wires, samplesize, ring_circuit, nlayers)\n",
    "\n",
    "        \n",
    "        \n",
    "        f = open(\"designtest_withStDev_ansatz1_{0}design_qubits{1}_layers{2}_samples{3}.txt\"\n",
    "                 .format(order,wires,nlayers, samplesize), \"w\")\n",
    "\n",
    "        print('Circuit,Designtest,Designtest_stdev', file = f)\n",
    "        print('No connections,', noconnec_design,',',noconnec_design_stdev, file = f)\n",
    "        print('Linear,', linear_design,',',linear_design_stdev, file = f)\n",
    "        print('Ring,', ring_design,',',ring_design_stdev, file = f)\n",
    "        \n",
    "        f.close()\n",
    "        \n",
    "        print('Execution: qubits=',wires,'; layers=', nlayers)\n",
    "        print()\n",
    "        \n",
    "        \n",
    "now1 = dt.datetime.now() #monitorar tempo de início\n",
    "now1 = now1.strftime(\"%Y-%m-%d %H:%M:%S\")\n",
    "\n",
    "\n",
    "print(\"Tempo inicial: \")\n",
    "print(now0)\n",
    "print(\"Tempo final:\")\n",
    "print(now1)"
   ]
  },
  {
   "cell_type": "code",
   "execution_count": null,
   "id": "ab62d9d9",
   "metadata": {},
   "outputs": [],
   "source": []
  }
 ],
 "metadata": {
  "kernelspec": {
   "display_name": "Python 3 (ipykernel)",
   "language": "python",
   "name": "python3"
  },
  "language_info": {
   "codemirror_mode": {
    "name": "ipython",
    "version": 3
   },
   "file_extension": ".py",
   "mimetype": "text/x-python",
   "name": "python",
   "nbconvert_exporter": "python",
   "pygments_lexer": "ipython3",
   "version": "3.10.12"
  }
 },
 "nbformat": 4,
 "nbformat_minor": 5
}
